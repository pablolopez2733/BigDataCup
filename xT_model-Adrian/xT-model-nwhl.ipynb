{
 "cells": [
  {
   "cell_type": "code",
   "execution_count": 113,
   "metadata": {},
   "outputs": [],
   "source": [
    "#Let's make this work for hockey."
   ]
  },
  {
   "cell_type": "code",
   "execution_count": 114,
   "metadata": {},
   "outputs": [],
   "source": [
    "#load test hockey data\n",
    "import pandas as pd\n",
    "actions=pd.read_csv('data_nwhl.csv')\n",
    "data=pd.read_csv('data_nwhl.csv')\n",
    "\n",
    "#for plots\n",
    "import socceraction.spadl.config as spadlconfig\n",
    "from socceraction.spadl.base import SPADLSchema"
   ]
  },
  {
   "cell_type": "code",
   "execution_count": 115,
   "metadata": {},
   "outputs": [],
   "source": [
    "#Load modules\n",
    "from typing import Callable, List, Tuple\n",
    "import numpy as np  \n",
    "from pandera.typing import DataFrame, Series\n",
    "try:\n",
    "    from scipy.interpolate import interp2d \n",
    "except ImportError:\n",
    "    interp2d = None\n",
    "M: int = 12\n",
    "N: int = 16"
   ]
  },
  {
   "cell_type": "code",
   "execution_count": 116,
   "metadata": {},
   "outputs": [],
   "source": [
    "def _get_cell_indexes(x: Series, y: Series, l: int = N, w: int = M) -> Tuple[Series, Series]:\n",
    "    xmin = 0\n",
    "    ymin = 0\n",
    "    xi = (x - xmin) / 200 * l \n",
    "    yj = (y - ymin) / 85 * w  \n",
    "    xi = xi.astype(int).clip(0, l - 1)\n",
    "    yj = yj.astype(int).clip(0, w - 1)\n",
    "    return xi, yj\n",
    "#test\n",
    "xi, yj = _get_cell_indexes(actions.start_x, actions.start_y, l=16, w=12)"
   ]
  },
  {
   "cell_type": "code",
   "execution_count": 117,
   "metadata": {},
   "outputs": [
    {
     "data": {
      "text/plain": [
       "0         88\n",
       "1        104\n",
       "2        138\n",
       "3        138\n",
       "4        157\n",
       "        ... \n",
       "26877     48\n",
       "26878     48\n",
       "26879      2\n",
       "26880    186\n",
       "26881    186\n",
       "Length: 26882, dtype: int32"
      ]
     },
     "execution_count": 117,
     "metadata": {},
     "output_type": "execute_result"
    }
   ],
   "source": [
    "def _get_flat_indexes(x: Series, y: Series, l: int = N, w: int = M) -> Series:\n",
    "    xi, yj = _get_cell_indexes(x, y, l, w)\n",
    "    return l * (w - 1 - yj) + xi \n",
    "#test\n",
    "_get_flat_indexes(x=actions.start_x, y=actions.start_y, l=16,w=12)"
   ]
  },
  {
   "cell_type": "code",
   "execution_count": 118,
   "metadata": {},
   "outputs": [],
   "source": [
    "def _count(x: Series, y: Series, l: int = N, w: int = M) -> np.ndarray:\n",
    "    \"\"\"Count the number of actions occurring in each cell of the grid.\n",
    "    Parameters\n",
    "    ----------\n",
    "    x : pd.Series\n",
    "        The x-coordinates of the actions.\n",
    "    y : pd.Series\n",
    "        The y-coordinates of the actions.\n",
    "    l : int\n",
    "        Amount of grid cells in the x-dimension of the grid.\n",
    "    w : int\n",
    "        Amount of grid cells in the y-dimension of the grid.\n",
    "\n",
    "    Returns\n",
    "    -------\n",
    "    np.ndarray\n",
    "        A matrix, denoting the amount of actions occurring in each cell. The\n",
    "        top-left corner is the origin.\n",
    "    \"\"\"\n",
    "    #first it gets rid of nan values\n",
    "    x = x[~np.isnan(x) & ~np.isnan(y)]\n",
    "    y = y[~np.isnan(x) & ~np.isnan(y)]\n",
    "    flat_indexes = _get_flat_indexes(x, y, l, w)\n",
    "    vc = flat_indexes.value_counts(sort=False)\n",
    "    vector = np.zeros(w * l) \n",
    "    vector[vc.index] = vc \n",
    "    return vector.reshape((w, l)) \n",
    "#Example using data\n",
    "test_mtrx=_count(actions.start_x, actions.start_y, l=16, w= 12)"
   ]
  },
  {
   "cell_type": "code",
   "execution_count": 119,
   "metadata": {},
   "outputs": [],
   "source": [
    "def _safe_divide(a: np.ndarray, b: np.ndarray) -> np.ndarray:\n",
    "    return np.divide(a, b, out=np.zeros_like(a), where=b != 0)"
   ]
  },
  {
   "cell_type": "code",
   "execution_count": 120,
   "metadata": {},
   "outputs": [],
   "source": [
    "def scoring_prob(actions, l: int = N, w: int = M) -> np.ndarray:\n",
    "    \"\"\"Compute the probability of scoring when taking a shot for each cell.\n",
    "\n",
    "    Parameters\n",
    "    ----------\n",
    "    actions : pd.DataFrame\n",
    "        Actions, in SPADL format.\n",
    "    l : int\n",
    "        Amount of grid cells in the x-dimension of the grid.\n",
    "    w : int\n",
    "        Amount of grid cells in the y-dimension of the grid.\n",
    "\n",
    "    Returns\n",
    "    -------\n",
    "    np.ndarray\n",
    "        A matrix, denoting the probability of scoring for each cell.\n",
    "    \"\"\"\n",
    "    actions=actions[actions['success'].isna() == False]\n",
    "    actions=actions[actions['end_x'].isna() == False]\n",
    "    shot_actions = actions[(actions.type_name == 'Shot')]\n",
    "    goals = shot_actions[(shot_actions.success == 1.0)]\n",
    "    \n",
    "    shotmatrix = _count(shot_actions.start_x, shot_actions.start_y, l, w)\n",
    "    goalmatrix = _count(goals.start_x, goals.start_y, l, w)\n",
    "    return _safe_divide(goalmatrix, shotmatrix)\n",
    "score_prob_mtrx = scoring_prob(actions, l=16,w=12)"
   ]
  },
  {
   "cell_type": "code",
   "execution_count": 121,
   "metadata": {},
   "outputs": [],
   "source": [
    "def get_move_actions(actions):\n",
    "    \"\"\"Get all ball-progressing actions.\n",
    "\n",
    "    These include passes, dribbles and crosses. Take-ons are ignored because\n",
    "    they typically coincide with dribbles and do not move the ball to\n",
    "    a different cell.\n",
    "\n",
    "    Parameters\n",
    "    ----------\n",
    "    actions : pd.DataFrame\n",
    "        Actions, in SPADL format.\n",
    "\n",
    "    Returns\n",
    "    -------\n",
    "    pd.DataFrame\n",
    "        All ball-progressing actions in the input dataframe.\n",
    "    \"\"\"\n",
    "    actions=actions[actions['success'].isna() == False]\n",
    "    actions=actions[actions['end_x'].isna() == False]\n",
    "    return actions[\n",
    "        (actions.type_name == 'Faceoff') # I assume this is similar to dribble\n",
    "        | (actions.type_name == 'Zone Entry') #not sure, I assume\n",
    "        | (actions.type_name == 'Pass') # this is similar to pass\n",
    "        #| (actions.type_name == 'Puck Recovery') I think it shouldn't count\n",
    "    ]\n",
    "\n",
    "#These are the posisble events in hockey data:\n",
    "#  [1] \"Faceoff Win\"     \"Puck Recovery\"   \"Zone Entry\"     \n",
    "#  [4] \"Shot\"            \"Play\"            \"Takeaway\"       \n",
    "#  [7] \"Dump In/Out\"     \"Incomplete Play\" \"Penalty Taken\"  \n",
    "# [10] \"Goal\"\n",
    "\n",
    "#These are the possible events in soccer data:\n",
    "# 'pass', 'dribble', 'throw_in', 'shot', 'bad_touch', 'clearance',\n",
    "# 'foul', 'freekick_short', 'cross', 'goalkick', 'shot_freekick',\n",
    "# 'corner_crossed', 'take_on', 'tackle', 'corner_short',\n",
    "# 'interception', 'keeper_save', 'keeper_claim', 'freekick_crossed',\n",
    "# 'keeper_punch', 'shot_penalty'\n",
    "\n",
    "#these are the events that the socccer model takes as move actions:\n",
    "# (actions.type_name == 'pass')\n",
    "# (actions.type_name == 'dribble')\n",
    "# (actions.type_name == 'cross')\n",
    "ma=get_move_actions(actions)"
   ]
  },
  {
   "cell_type": "code",
   "execution_count": 122,
   "metadata": {},
   "outputs": [],
   "source": [
    "def get_successful_move_actions(actions):\n",
    "    \"\"\"Get all successful ball-progressing actions.\n",
    "\n",
    "    These include successful passes, dribbles and crosses.\n",
    "\n",
    "    Parameters\n",
    "    ----------\n",
    "    actions : pd.DataFrame\n",
    "        Actions, in SPADL format.\n",
    "\n",
    "    Returns\n",
    "    -------\n",
    "    pd.DataFrame\n",
    "        All ball-progressing actions in the input dataframe.\n",
    "    \"\"\"\n",
    "    actions=actions[actions['success'].isna() == False]\n",
    "    actions=actions[actions['end_x'].isna() == False]\n",
    "    move_actions = get_move_actions(actions)\n",
    "    return move_actions[move_actions.success == 1.0]\n",
    "sma=get_successful_move_actions(actions)"
   ]
  },
  {
   "cell_type": "code",
   "execution_count": 123,
   "metadata": {},
   "outputs": [],
   "source": [
    "def action_prob(\n",
    "    actions, l: int = N, w: int = M\n",
    ") -> Tuple[np.ndarray, np.ndarray]:\n",
    "    \"\"\"Compute the probability of taking an action in each cell of the grid.\n",
    "\n",
    "    The options are: shooting or moving.\n",
    "\n",
    "    Parameters\n",
    "    ----------\n",
    "    actions : pd.DataFrame\n",
    "        Actions, in SPADL format.\n",
    "    l : pd.DataFrame\n",
    "        Amount of grid cells in the x-dimension of the grid.\n",
    "    w : pd.DataFrame\n",
    "        Amount of grid cells in the y-dimension of the grid.\n",
    "\n",
    "    Returns\n",
    "    -------\n",
    "    shotmatrix : np.ndarray\n",
    "        For each cell the probability of choosing to shoot.\n",
    "    movematrix : np.ndarray\n",
    "        For each cell the probability of choosing to move.\n",
    "    \"\"\"\n",
    "    actions=actions[actions['success'].isna() == False]\n",
    "    actions=actions[actions['end_x'].isna() == False]\n",
    "    move_actions = get_move_actions(actions)\n",
    "    shot_actions = actions[(actions.type_name == 'Shot')]\n",
    "\n",
    "    movematrix = _count(move_actions.start_x, move_actions.start_y, l, w)\n",
    "    shotmatrix = _count(shot_actions.start_x, shot_actions.start_y, l, w)\n",
    "    totalmatrix = movematrix + shotmatrix\n",
    "\n",
    "    return _safe_divide(shotmatrix, totalmatrix), _safe_divide(movematrix, totalmatrix)\n",
    "s_p,m_p = action_prob(actions,l=16,w=12)"
   ]
  },
  {
   "cell_type": "code",
   "execution_count": 124,
   "metadata": {},
   "outputs": [],
   "source": [
    "def move_transition_matrix(actions, l: int = N, w: int = M) -> np.ndarray:\n",
    "    \"\"\"Compute the move transition matrix from the given actions.\n",
    "\n",
    "    This is, when a player chooses to move, the probability that he will\n",
    "    end up in each of the other cells of the grid successfully.\n",
    "\n",
    "    Parameters\n",
    "    ----------\n",
    "    actions : pd.DataFrame\n",
    "        Actions, in SPADL format.\n",
    "    l : int\n",
    "        Amount of grid cells in the x-dimension of the grid.\n",
    "    w : int\n",
    "        Amount of grid cells in the y-dimension of the grid.\n",
    "\n",
    "    Returns\n",
    "    -------\n",
    "    np.ndarray\n",
    "        The transition matrix.\n",
    "    \"\"\"\n",
    "    actions=actions[actions['success'].isna() == False]\n",
    "    actions=actions[actions['end_x'].isna() == False]\n",
    "    move_actions = get_move_actions(actions)\n",
    "\n",
    "    X = pd.DataFrame()\n",
    "    X['start_cell'] = _get_flat_indexes(move_actions.start_x, move_actions.start_y, l, w)\n",
    "    X['end_cell'] = _get_flat_indexes(move_actions.end_x, move_actions.end_y, l, w)\n",
    "    X['success'] = move_actions.success\n",
    "\n",
    "    vc = X.start_cell.value_counts(sort=False)\n",
    "    start_counts = np.zeros(w * l)\n",
    "    start_counts[vc.index] = vc\n",
    "\n",
    "    transition_matrix = np.zeros((w * l, w * l))\n",
    "\n",
    "    for i in range(0, w * l):\n",
    "        vc2 = X[((X.start_cell == i) & (X.success == 1.0))].end_cell.value_counts(\n",
    "            sort=False\n",
    "        )\n",
    "        transition_matrix[i, vc2.index] = vc2 / start_counts[i]\n",
    "\n",
    "    return transition_matrix\n",
    "\n",
    "mtm = move_transition_matrix(actions,l=16,w=12)"
   ]
  },
  {
   "cell_type": "code",
   "execution_count": 125,
   "metadata": {},
   "outputs": [],
   "source": [
    "#This should technically work"
   ]
  },
  {
   "cell_type": "code",
   "execution_count": 126,
   "metadata": {},
   "outputs": [],
   "source": [
    "class ExpectedThreat:\n",
    "    \"\"\"An implementation of the Expected Threat (xT) model [Singh2019]_.\n",
    "\n",
    "    Parameters\n",
    "    ----------\n",
    "    l : int\n",
    "        Amount of grid cells in the x-dimension of the grid.\n",
    "    w : int\n",
    "        Amount of grid cells in the y-dimension of the grid.\n",
    "    eps : float\n",
    "       The desired precision to calculate the xT value of a cell. Default is\n",
    "       5 decimal places of precision (1e-5).\n",
    "\n",
    "    Attributes\n",
    "    ----------\n",
    "    l : int\n",
    "        Amount of grid cells in the x-dimension of the grid.\n",
    "    w : int\n",
    "        Amount of grid cells in the y-dimension of the grid.\n",
    "    eps : float\n",
    "       The desired precision to calculate the xT value of a cell. Default is\n",
    "       5 decimal places of precision (1e-5).\n",
    "    heatmaps : list(np.ndarray)\n",
    "        The i-th element corresponds to the xT value surface after i iterations.\n",
    "    xT : np.ndarray\n",
    "        The final xT value surface.\n",
    "    scoring_prob_matrix : np.ndarray, shape(M,N)\n",
    "        The probability of scoring when taking a shot for each cell.\n",
    "    shot_prob_matrix : np.ndarray, shape(M,N)\n",
    "        The probability of choosing to shoot for each cell.\n",
    "    move_prob_matrix : np.ndarray, shape(M,N)\n",
    "        The probability of choosing to move for each cell.\n",
    "    transition_matrix : np.ndarray, shape(M*N,M*N)\n",
    "        When moving, the probability of moving to each of the other zones.\n",
    "\n",
    "\n",
    "    .. [Singh2019] Singh, Karun. \"Introducing Expected Threat (xT).\" 15 February, 2019.\n",
    "        https://karun.in/blog/expected-threat.html\n",
    "    \"\"\"\n",
    "\n",
    "    def __init__(self, l: int = N, w: int = M, eps: float = 1e-5):\n",
    "        self.l = l\n",
    "        self.w = w\n",
    "        self.eps = eps\n",
    "        self.heatmaps: List[np.ndarray] = []\n",
    "        self.xT: np.ndarray = np.zeros((w, l))\n",
    "        self.scoring_prob_matrix: np.ndarray = np.zeros((w, l))\n",
    "        self.shot_prob_matrix: np.ndarray = np.zeros((w, l))\n",
    "        self.move_prob_matrix: np.ndarray = np.zeros((w, l))\n",
    "        self.transition_matrix: np.ndarray = np.zeros((w * l, w * l))\n",
    "\n",
    "    def __solve(\n",
    "        self,\n",
    "        p_scoring: np.ndarray,\n",
    "        p_shot: np.ndarray,\n",
    "        p_move: np.ndarray,\n",
    "        transition_matrix: np.ndarray,\n",
    "    ) -> None:\n",
    "        \"\"\"Solves the expected threat equation with dynamic programming.\n",
    "\n",
    "        Parameters\n",
    "        ----------\n",
    "        p_scoring : (np.ndarray, shape(M, N)):\n",
    "            Probability of scoring at each grid cell, when shooting from that cell.\n",
    "        p_shot : (np.ndarray, shape(M,N)):\n",
    "            For each grid cell, the probability of choosing to shoot from there.\n",
    "        p_move : (np.ndarray, shape(M,N)):\n",
    "            For each grid cell, the probability of choosing to move from there.\n",
    "        transition_matrix : (np.ndarray, shape(M*N,M*N)):\n",
    "            When moving, the probability of moving to each of the other zones.\n",
    "        \"\"\"\n",
    "        gs = p_scoring * p_shot\n",
    "        diff = 1\n",
    "        it = 0\n",
    "        self.heatmaps.append(self.xT.copy())\n",
    "\n",
    "        while np.any(diff > self.eps):\n",
    "            total_payoff = np.zeros((self.w, self.l))\n",
    "\n",
    "            for y in range(0, self.w):\n",
    "                for x in range(0, self.l):\n",
    "                    for q in range(0, self.w):\n",
    "                        for z in range(0, self.l):\n",
    "                            total_payoff[y, x] += (\n",
    "                                transition_matrix[self.l * y + x, self.l * q + z] * self.xT[q, z]\n",
    "                            )\n",
    "\n",
    "            newxT = gs + (p_move * total_payoff)\n",
    "            diff = newxT - self.xT\n",
    "            self.xT = newxT\n",
    "            self.heatmaps.append(self.xT.copy())\n",
    "            it += 1\n",
    "\n",
    "        print('# iterations: ', it)\n",
    "\n",
    "    def fit(self, actions) -> 'ExpectedThreat':\n",
    "        \"\"\"Fits the xT model with the given actions.\n",
    "\n",
    "        Parameters\n",
    "        ----------\n",
    "        actions : pd.DataFrame\n",
    "            Actions, in SPADL format.\n",
    "\n",
    "        Returns\n",
    "        -------\n",
    "        self\n",
    "            Fitted xT model.\n",
    "        \"\"\"\n",
    "        self.scoring_prob_matrix = scoring_prob(actions, self.l, self.w)\n",
    "        self.shot_prob_matrix, self.move_prob_matrix = action_prob(actions, self.l, self.w)\n",
    "        self.transition_matrix = move_transition_matrix(actions, self.l, self.w)\n",
    "        self.__solve(\n",
    "            self.scoring_prob_matrix,\n",
    "            self.shot_prob_matrix,\n",
    "            self.move_prob_matrix,\n",
    "            self.transition_matrix,\n",
    "        )\n",
    "        return self\n",
    "\n",
    "    def interpolator(self, kind: str = 'linear') -> Callable[[np.ndarray, np.ndarray], np.ndarray]:\n",
    "        \"\"\"Interpolate over the pitch.\n",
    "\n",
    "        This is a wrapper around :func:`scipy.interpolate.interp2d`.\n",
    "\n",
    "        Parameters\n",
    "        ----------\n",
    "        kind : {'linear', 'cubic', 'quintic'}, optional\n",
    "            The kind of spline interpolation to use. Default is ‘linear’.\n",
    "\n",
    "        Returns\n",
    "        -------\n",
    "        callable\n",
    "            A function that interpolates xT values over the pitch.\n",
    "        \"\"\"\n",
    "        if interp2d is None:\n",
    "            raise ImportError('Interpolation requires scipy to be installed.')\n",
    "\n",
    "        cell_length = 200 / self.l\n",
    "        cell_width = 85 / self.w\n",
    "\n",
    "        x = np.arange(0.0, 200, cell_length) + 0.5 * cell_length\n",
    "        y = np.arange(0.0, 85, cell_width) + 0.5 * cell_width\n",
    "\n",
    "        return interp2d(x=x, y=y, z=self.xT, kind=kind, bounds_error=False)\n",
    "\n",
    "    def predict(\n",
    "        self, actions, use_interpolation: bool = False\n",
    "    ) -> np.ndarray:\n",
    "        \"\"\"Predicts the xT values for the given actions.\n",
    "\n",
    "        Parameters\n",
    "        ----------\n",
    "        actions : pd.DataFrame\n",
    "            Actions, in SPADL format.\n",
    "        use_interpolation : bool\n",
    "            Indicates whether to use bilinear interpolation when inferring xT\n",
    "            values. Note that this requires Scipy to be installed (pip install\n",
    "            scipy).\n",
    "\n",
    "        Returns\n",
    "        -------\n",
    "        np.ndarray\n",
    "            The xT value for each action.\n",
    "        \"\"\"\n",
    "        if not use_interpolation:\n",
    "            l = self.l\n",
    "            w = self.w\n",
    "            grid = self.xT\n",
    "        else:\n",
    "            # Use interpolation to create a\n",
    "            # more fine-grained 1050 x 680 grid\n",
    "            interp = self.interpolator()\n",
    "            l = int(spadlconfig.field_length * 10)\n",
    "            w = int(spadlconfig.field_width * 10)\n",
    "            xs = np.linspace(0, 200, l)\n",
    "            ys = np.linspace(0, 85, w)\n",
    "            grid = interp(xs, ys)\n",
    "\n",
    "        startxc, startyc = _get_cell_indexes(actions.start_x, actions.start_y, l, w)\n",
    "        endxc, endyc = _get_cell_indexes(actions.end_x, actions.end_y, l, w)\n",
    "\n",
    "        xT_start = grid[w - 1 - startyc, startxc]\n",
    "        xT_end = grid[w - 1 - endyc, endxc]\n",
    "\n",
    "        return xT_end - xT_start"
   ]
  },
  {
   "cell_type": "code",
   "execution_count": 127,
   "metadata": {},
   "outputs": [
    {
     "name": "stdout",
     "output_type": "stream",
     "text": [
      "# iterations:  15\n"
     ]
    },
    {
     "data": {
      "text/plain": [
       "<__main__.ExpectedThreat at 0x1b26ba70b08>"
      ]
     },
     "execution_count": 127,
     "metadata": {},
     "output_type": "execute_result"
    }
   ],
   "source": [
    "xTModel = ExpectedThreat(l=16, w=12) # seems like we can specify the number of areas \n",
    "# which is cool\n",
    "xTModel.fit(data)"
   ]
  },
  {
   "cell_type": "code",
   "execution_count": 128,
   "metadata": {},
   "outputs": [],
   "source": [
    "mov_actions = get_successful_move_actions(data)\n",
    "mov_actions[\"xT_value\"] = xTModel.predict(mov_actions)"
   ]
  },
  {
   "cell_type": "code",
   "execution_count": 129,
   "metadata": {},
   "outputs": [
    {
     "data": {
      "text/html": [
       "<div>\n",
       "<style scoped>\n",
       "    .dataframe tbody tr th:only-of-type {\n",
       "        vertical-align: middle;\n",
       "    }\n",
       "\n",
       "    .dataframe tbody tr th {\n",
       "        vertical-align: top;\n",
       "    }\n",
       "\n",
       "    .dataframe thead th {\n",
       "        text-align: right;\n",
       "    }\n",
       "</style>\n",
       "<table border=\"1\" class=\"dataframe\">\n",
       "  <thead>\n",
       "    <tr style=\"text-align: right;\">\n",
       "      <th></th>\n",
       "      <th>Team</th>\n",
       "      <th>type_name</th>\n",
       "      <th>start_x</th>\n",
       "      <th>start_y</th>\n",
       "      <th>end_x</th>\n",
       "      <th>end_y</th>\n",
       "      <th>xT_value</th>\n",
       "    </tr>\n",
       "  </thead>\n",
       "  <tbody>\n",
       "    <tr>\n",
       "      <th>2</th>\n",
       "      <td>Boston Pride</td>\n",
       "      <td>Zone Entry</td>\n",
       "      <td>125</td>\n",
       "      <td>28</td>\n",
       "      <td>131.0</td>\n",
       "      <td>28.0</td>\n",
       "      <td>0.000000</td>\n",
       "    </tr>\n",
       "    <tr>\n",
       "      <th>4</th>\n",
       "      <td>Boston Pride</td>\n",
       "      <td>Faceoff</td>\n",
       "      <td>169</td>\n",
       "      <td>21</td>\n",
       "      <td>159.0</td>\n",
       "      <td>26.0</td>\n",
       "      <td>0.012978</td>\n",
       "    </tr>\n",
       "    <tr>\n",
       "      <th>7</th>\n",
       "      <td>Minnesota Whitecaps</td>\n",
       "      <td>Zone Entry</td>\n",
       "      <td>125</td>\n",
       "      <td>6</td>\n",
       "      <td>157.0</td>\n",
       "      <td>0.0</td>\n",
       "      <td>0.001243</td>\n",
       "    </tr>\n",
       "    <tr>\n",
       "      <th>8</th>\n",
       "      <td>Minnesota Whitecaps</td>\n",
       "      <td>Pass</td>\n",
       "      <td>157</td>\n",
       "      <td>0</td>\n",
       "      <td>198.0</td>\n",
       "      <td>38.0</td>\n",
       "      <td>0.015589</td>\n",
       "    </tr>\n",
       "    <tr>\n",
       "      <th>9</th>\n",
       "      <td>Minnesota Whitecaps</td>\n",
       "      <td>Pass</td>\n",
       "      <td>193</td>\n",
       "      <td>20</td>\n",
       "      <td>196.0</td>\n",
       "      <td>33.0</td>\n",
       "      <td>0.002390</td>\n",
       "    </tr>\n",
       "    <tr>\n",
       "      <th>11</th>\n",
       "      <td>Boston Pride</td>\n",
       "      <td>Pass</td>\n",
       "      <td>3</td>\n",
       "      <td>49</td>\n",
       "      <td>37.0</td>\n",
       "      <td>70.0</td>\n",
       "      <td>0.000190</td>\n",
       "    </tr>\n",
       "    <tr>\n",
       "      <th>17</th>\n",
       "      <td>Boston Pride</td>\n",
       "      <td>Pass</td>\n",
       "      <td>12</td>\n",
       "      <td>33</td>\n",
       "      <td>61.0</td>\n",
       "      <td>85.0</td>\n",
       "      <td>0.000696</td>\n",
       "    </tr>\n",
       "    <tr>\n",
       "      <th>19</th>\n",
       "      <td>Minnesota Whitecaps</td>\n",
       "      <td>Zone Entry</td>\n",
       "      <td>124</td>\n",
       "      <td>2</td>\n",
       "      <td>162.0</td>\n",
       "      <td>2.0</td>\n",
       "      <td>0.001795</td>\n",
       "    </tr>\n",
       "    <tr>\n",
       "      <th>22</th>\n",
       "      <td>Boston Pride</td>\n",
       "      <td>Pass</td>\n",
       "      <td>25</td>\n",
       "      <td>3</td>\n",
       "      <td>57.0</td>\n",
       "      <td>3.0</td>\n",
       "      <td>0.000725</td>\n",
       "    </tr>\n",
       "    <tr>\n",
       "      <th>25</th>\n",
       "      <td>Minnesota Whitecaps</td>\n",
       "      <td>Pass</td>\n",
       "      <td>79</td>\n",
       "      <td>80</td>\n",
       "      <td>105.0</td>\n",
       "      <td>45.0</td>\n",
       "      <td>-0.000040</td>\n",
       "    </tr>\n",
       "  </tbody>\n",
       "</table>\n",
       "</div>"
      ],
      "text/plain": [
       "                   Team   type_name  start_x  start_y  end_x  end_y  xT_value\n",
       "2          Boston Pride  Zone Entry      125       28  131.0   28.0  0.000000\n",
       "4          Boston Pride     Faceoff      169       21  159.0   26.0  0.012978\n",
       "7   Minnesota Whitecaps  Zone Entry      125        6  157.0    0.0  0.001243\n",
       "8   Minnesota Whitecaps        Pass      157        0  198.0   38.0  0.015589\n",
       "9   Minnesota Whitecaps        Pass      193       20  196.0   33.0  0.002390\n",
       "11         Boston Pride        Pass        3       49   37.0   70.0  0.000190\n",
       "17         Boston Pride        Pass       12       33   61.0   85.0  0.000696\n",
       "19  Minnesota Whitecaps  Zone Entry      124        2  162.0    2.0  0.001795\n",
       "22         Boston Pride        Pass       25        3   57.0    3.0  0.000725\n",
       "25  Minnesota Whitecaps        Pass       79       80  105.0   45.0 -0.000040"
      ]
     },
     "execution_count": 129,
     "metadata": {},
     "output_type": "execute_result"
    }
   ],
   "source": [
    "#We have a problem. when preparing data we need to change how \n",
    "# x and y is at posetion teams perspective.\n",
    "#We need to normalize as it all teams are facing the same way\n",
    "#How can we do that?\n",
    "mov_actions[\n",
    "    [\"Team\",\"type_name\", \"start_x\", \"start_y\", \"end_x\", \"end_y\", \"xT_value\"]\n",
    "][:10]"
   ]
  },
  {
   "cell_type": "code",
   "execution_count": 130,
   "metadata": {},
   "outputs": [
    {
     "name": "stdout",
     "output_type": "stream",
     "text": [
      "Top 10 offenses in terms of xT:\n"
     ]
    },
    {
     "data": {
      "text/html": [
       "<div>\n",
       "<style scoped>\n",
       "    .dataframe tbody tr th:only-of-type {\n",
       "        vertical-align: middle;\n",
       "    }\n",
       "\n",
       "    .dataframe tbody tr th {\n",
       "        vertical-align: top;\n",
       "    }\n",
       "\n",
       "    .dataframe thead th {\n",
       "        text-align: right;\n",
       "    }\n",
       "</style>\n",
       "<table border=\"1\" class=\"dataframe\">\n",
       "  <thead>\n",
       "    <tr style=\"text-align: right;\">\n",
       "      <th></th>\n",
       "      <th>xT_value</th>\n",
       "    </tr>\n",
       "    <tr>\n",
       "      <th>Team</th>\n",
       "      <th></th>\n",
       "    </tr>\n",
       "  </thead>\n",
       "  <tbody>\n",
       "    <tr>\n",
       "      <th>Boston Pride</th>\n",
       "      <td>8.366766</td>\n",
       "    </tr>\n",
       "    <tr>\n",
       "      <th>Toronto Six</th>\n",
       "      <td>6.860559</td>\n",
       "    </tr>\n",
       "    <tr>\n",
       "      <th>Buffalo Beauts</th>\n",
       "      <td>3.430373</td>\n",
       "    </tr>\n",
       "    <tr>\n",
       "      <th>Minnesota Whitecaps</th>\n",
       "      <td>3.209424</td>\n",
       "    </tr>\n",
       "    <tr>\n",
       "      <th>Connecticut Whale</th>\n",
       "      <td>2.990447</td>\n",
       "    </tr>\n",
       "    <tr>\n",
       "      <th>Metropolitan Riveters</th>\n",
       "      <td>1.762150</td>\n",
       "    </tr>\n",
       "  </tbody>\n",
       "</table>\n",
       "</div>"
      ],
      "text/plain": [
       "                       xT_value\n",
       "Team                           \n",
       "Boston Pride           8.366766\n",
       "Toronto Six            6.860559\n",
       "Buffalo Beauts         3.430373\n",
       "Minnesota Whitecaps    3.209424\n",
       "Connecticut Whale      2.990447\n",
       "Metropolitan Riveters  1.762150"
      ]
     },
     "execution_count": 130,
     "metadata": {},
     "output_type": "execute_result"
    }
   ],
   "source": [
    "#Top 10 teams\n",
    "print(\"Top 10 offenses in terms of xT:\")\n",
    "pd.DataFrame(\n",
    "    mov_actions.groupby('Team')['xT_value'].sum()\n",
    "            ).sort_values(\n",
    "    by='xT_value',ascending=False\n",
    "                         ).head(10)"
   ]
  },
  {
   "cell_type": "code",
   "execution_count": 131,
   "metadata": {},
   "outputs": [
    {
     "data": {
      "image/png": "[encoded data removed]",
      "text/plain": [
       "<Figure size 432x288 with 2 Axes>"
      ]
     },
     "metadata": {
      "needs_background": "light"
     },
     "output_type": "display_data"
    },
    {
     "data": {
      "text/plain": [
       "<matplotlib.axes._subplots.AxesSubplot at 0x1b200a90948>"
      ]
     },
     "execution_count": 131,
     "metadata": {},
     "output_type": "execute_result"
    }
   ],
   "source": [
    "import matplotsoccer as mps\n",
    "\n",
    "interp = xTModel.interpolator()\n",
    "x = np.linspace(0, 200, 2000)\n",
    "y = np.linspace(0, 85, 850)\n",
    "mps.heatmap(interp(x,y), cmap=\"hot\", linecolor=\"white\", cbar=\"True\")"
   ]
  },
  {
   "cell_type": "code",
   "execution_count": 139,
   "metadata": {},
   "outputs": [
    {
     "data": {
      "text/plain": [
       "<matplotlib.axes._subplots.AxesSubplot at 0x1b263ab39c8>"
      ]
     },
     "execution_count": 139,
     "metadata": {},
     "output_type": "execute_result"
    },
    {
     "data": {
      "image/png": "[encoded data removed]",
      "text/plain": [
       "<Figure size 432x288 with 2 Axes>"
      ]
     },
     "metadata": {
      "needs_background": "light"
     },
     "output_type": "display_data"
    }
   ],
   "source": [
    "import seaborn as sns\n",
    "sns.heatmap(interp(x,y))"
   ]
  },
  {
   "cell_type": "code",
   "execution_count": 133,
   "metadata": {},
   "outputs": [],
   "source": [
    "from sports_plotter.hockey import Rink"
   ]
  },
  {
   "cell_type": "code",
   "execution_count": 134,
   "metadata": {},
   "outputs": [
    {
     "data": {
      "image/png": "[encoded data removed]",
      "text/plain": [
       "<Figure size 432x288 with 1 Axes>"
      ]
     },
     "metadata": {
      "needs_background": "light"
     },
     "output_type": "display_data"
    }
   ],
   "source": [
    "rink = Rink(vert=True)\n",
    "rink = Rink(half=True)\n",
    "rink = Rink(half=True, vert=True)\n",
    "fig, ax = plt.subplots(1,1)\n",
    "rnk = Rink()\n",
    "rnk.add_shots([[50,0],[-50,10]], shape='H', color='red')\n",
    "rnk.plot_rink(ax)\n",
    "#sns.heatmap(interp(x,y))\n",
    "plt.show()"
   ]
  },
  {
   "cell_type": "code",
   "execution_count": 135,
   "metadata": {},
   "outputs": [
    {
     "data": {
      "image/png": "[encoded data removed]",
      "text/plain": [
       "<Figure size 432x288 with 1 Axes>"
      ]
     },
     "metadata": {
      "needs_background": "light"
     },
     "output_type": "display_data"
    }
   ],
   "source": [
    "fig, ax = plt.subplots(1,1)\n",
    "rnk = Rink()\n",
    "rnk.add_shots([[50,0],[-50,10]], shape='H', color='red')\n",
    "rnk.plot_rink(ax)\n",
    "plt.show()"
   ]
  },
  {
   "cell_type": "code",
   "execution_count": 136,
   "metadata": {},
   "outputs": [],
   "source": [
    "interp = xTModel.interpolator()"
   ]
  },
  {
   "cell_type": "code",
   "execution_count": 142,
   "metadata": {},
   "outputs": [
    {
     "data": {
      "text/plain": [
       "(850, 2000)"
      ]
     },
     "execution_count": 142,
     "metadata": {},
     "output_type": "execute_result"
    }
   ],
   "source": [
    "x = np.linspace(0, 200, 2000)\n",
    "y = np.linspace(0, 85, 850)\n",
    "interp(x,y).shape "
   ]
  },
  {
   "cell_type": "code",
   "execution_count": 148,
   "metadata": {},
   "outputs": [],
   "source": [
    "matrix = interp(x,y)"
   ]
  },
  {
   "cell_type": "code",
   "execution_count": 152,
   "metadata": {},
   "outputs": [],
   "source": [
    "np.savetxt(\"matrix.csv\", matrix, delimiter=\",\")"
   ]
  }
 ],
 "metadata": {
  "kernelspec": {
   "display_name": "Python 3",
   "language": "python",
   "name": "python3"
  },
  "language_info": {
   "codemirror_mode": {
    "name": "ipython",
    "version": 3
   },
   "file_extension": ".py",
   "mimetype": "text/x-python",
   "name": "python",
   "nbconvert_exporter": "python",
   "pygments_lexer": "ipython3",
   "version": "3.7.6"
  }
 },
 "nbformat": 4,
 "nbformat_minor": 4
}
