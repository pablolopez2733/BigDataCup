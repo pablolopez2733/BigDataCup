{
 "cells": [
  {
   "cell_type": "code",
   "execution_count": 1,
   "metadata": {},
   "outputs": [
    {
     "name": "stdout",
     "output_type": "stream",
     "text": [
      "# iterations:  15\n"
     ]
    }
   ],
   "source": [
    "from xT import *\n",
    "import pandas as pd\n",
    "\n",
    "data=pd.read_csv('data_nwhl.csv')\n",
    "xTModel = ExpectedThreat(l=16, w=12)\n",
    "xTModel.fit(data)\n",
    "\n",
    "mov_actions = get_successful_move_actions(data)\n",
    "mov_actions[\"xTa\"] = xTModel.predict(mov_actions)\n",
    "xt_dic=mov_actions.xTa.to_dict()\n",
    "data['xTa']=data.index.map(xt_dic)\n",
    "data.to_csv('xt_table.csv',index=False)\n",
    "\n",
    "interp = xTModel.interpolator()\n",
    "x = np.linspace(0, 200, 2000)\n",
    "y = np.linspace(0, 85, 850)\n",
    "\n",
    "matrix = interp(x,y)\n",
    "frame = pd.DataFrame(matrix)\n",
    "\n",
    "m_lst = []\n",
    "n_lst = []\n",
    "p_lst = []\n",
    "for m in frame.columns:\n",
    "    for n in frame.index:\n",
    "        p_lst.append(frame[m][n])\n",
    "        m_lst.append(m)\n",
    "        n_lst.append(n)\n",
    "export=pd.DataFrame(data={'x':m_lst,'y':n_lst,'xt':p_lst})\n",
    "export.to_csv('frame_plot.csv',index=False)"
   ]
  }
 ],
 "metadata": {
  "kernelspec": {
   "display_name": "Python 3",
   "language": "python",
   "name": "python3"
  },
  "language_info": {
   "codemirror_mode": {
    "name": "ipython",
    "version": 3
   },
   "file_extension": ".py",
   "mimetype": "text/x-python",
   "name": "python",
   "nbconvert_exporter": "python",
   "pygments_lexer": "ipython3",
   "version": "3.7.6"
  }
 },
 "nbformat": 4,
 "nbformat_minor": 4
}
