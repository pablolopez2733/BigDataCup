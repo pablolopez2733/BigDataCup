{
 "cells": [
  {
   "cell_type": "code",
   "execution_count": 182,
   "metadata": {},
   "outputs": [
    {
     "name": "stdout",
     "output_type": "stream",
     "text": [
      "# iterations:  15\n"
     ]
    },
    {
     "data": {
      "text/plain": [
       "<Figure size 1032x480 with 0 Axes>"
      ]
     },
     "metadata": {},
     "output_type": "display_data"
    }
   ],
   "source": [
    "from xT import *\n",
    "import seaborn as sns\n",
    "import matplotlib.pyplot as plt\n",
    "import glob\n",
    "from PIL import Image\n",
    "import os\n",
    "\n",
    "#Dimensions\n",
    "l=16\n",
    "w=8\n",
    "\n",
    "data=pd.read_csv('nwhl/data.csv')\n",
    "xTModel = ExpectedThreat(l, w)\n",
    "xTModel.fit(data)\n",
    "\n",
    "per_lst = []\n",
    "for i in [.25,.50,.75,.90]:\n",
    "    percentile = np.quantile(xTModel.xT.reshape(128,1),i)\n",
    "    per_lst.append(percentile)\n",
    "    \n",
    "cell_coord = []\n",
    "for n in range(0,w):\n",
    "    for m in range(0,l):\n",
    "        cell_coord.append((m,n))\n",
    "\n",
    "for i in range(0,w*l):\n",
    "    x=cell_coord[i][0]\n",
    "    y=cell_coord[i][1]\n",
    "    uniform_data = pd.DataFrame(xTModel.transition_matrix[i].reshape(w,l))\n",
    "    uniform_data.loc[y,x] = np.nan\n",
    "    mask = uniform_data.isnull()\n",
    "    shoot_p = xTModel.shot_prob_matrix[y][x]\n",
    "    goal_p = xTModel.scoring_prob_matrix[y][x]\n",
    "    xt = xTModel.xT[y][x]\n",
    "    conditions = [\n",
    "    (xt >= per_lst[3]),\n",
    "    ((xt >= per_lst[2]) & (xt < per_lst[3])),\n",
    "    ((xt >= per_lst[1]) & (xt < per_lst[2])),\n",
    "    ((xt >= per_lst[0]) & (xt < per_lst[1])),\n",
    "    ((xt < per_lst[0]))\n",
    "    ]\n",
    "    choices = ['#ff0000','#ff5900','#ff8800','#ffa500','#ffbf00']\n",
    "    color=np.select(conditions, choices).tolist()\n",
    "    figure = plt.gcf()\n",
    "    figure.set_size_inches((200/15)+1, (85/15)+1)\n",
    "    ax = sns.heatmap(uniform_data,cmap=\"Blues\",mask=mask)\n",
    "    ax.set_facecolor(color)\n",
    "    ax.set(\n",
    "        title = \n",
    "        \"Current cell \"+str(cell_coord[i])+\n",
    "        \"\\nColor: probability of moving to each cell\"+\n",
    "        \"\\nShoot probability: \"+str(round(shoot_p,2))+\n",
    "        \" | Goal probability: \"+str(round(goal_p,2))+\n",
    "        \"\\nExpected Threat: \"+str(round(xt,2))\n",
    "    )\n",
    "    a = .38\n",
    "    b = .4\n",
    "    x0 = ((4.376471 + 3.623529)/2)+.009\n",
    "    y0 = ((14.7804 + 15.12)/2)-.12\n",
    "    x = (np.linspace(-a + x0, a + x0))\n",
    "    y = -b * np.sqrt(1 - ((x - x0) / a) ** 2) + y0\n",
    "    ax.plot(y, x,color='black')\n",
    "\n",
    "    ax.plot([14.7804,15.12], [4.376471,4.376471],color='black')\n",
    "    ax.plot([14.7804,15.12], [3.623529,3.623529],color='black')\n",
    "\n",
    "    ax.plot([15.12,15.12], [0,8],color='black')\n",
    "    ax.plot([15.12+0.2664,15.12+0.2664], [4-0.24,4+0.24],color='black')\n",
    "\n",
    "    ax.plot([15.12,15.12+0.2664], [4-0.24,4-0.24],color='black')\n",
    "    ax.plot([15.12,15.12+0.2664], [4+0.24,4+0.24],color='black')\n",
    "\n",
    "    ax.plot([8,8], [0,8],color='black')\n",
    "    ax.plot([10.04,10.04], [0,8],color='black')\n",
    "    ax.plot([5.96,5.96], [0,8],color='black')\n",
    "    plt.savefig('gif_images/'+str(i)+'.png', dpi=100) \n",
    "    plt.clf()\n",
    "\n",
    "files = glob.glob(\"gif_images/*.png\")\n",
    "files.sort(key=os.path.getmtime)\n",
    "\n",
    "fp_out = 'GIF_transition_matrix2.gif'\n",
    "\n",
    "img, *imgs = [Image.open(f) for f in files]\n",
    "img.save(fp=fp_out, format='GIF', append_images=imgs,\n",
    "         save_all=True, duration=500, loop=0)"
   ]
  },
  {
   "cell_type": "code",
   "execution_count": 186,
   "metadata": {},
   "outputs": [
    {
     "data": {
      "text/plain": [
       "[<matplotlib.lines.Line2D at 0x1f3cae9f048>]"
      ]
     },
     "execution_count": 186,
     "metadata": {},
     "output_type": "execute_result"
    },
    {
     "data": {
      "image/png": "[encoded data removed]",
      "text/plain": [
       "<Figure size 1032x480 with 2 Axes>"
      ]
     },
     "metadata": {
      "needs_background": "light"
     },
     "output_type": "display_data"
    }
   ],
   "source": [
    "from matplotlib.offsetbox import OffsetImage, AnnotationBbox\n",
    "def getImage(path): \n",
    "    return OffsetImage(plt.imread(path), zoom=.3)\n",
    "\n",
    "figure = plt.gcf()\n",
    "figure.set_size_inches((200/15)+1, (85/15)+1)\n",
    "ax = sns.heatmap(uniform_data,cmap=\"Blues\",mask=mask)\n",
    "ax.set_facecolor(color)\n",
    "ax.set(\n",
    "    title = \n",
    "    \"Current cell \"+str(cell_coord[i])+\n",
    "    \"\\nColor: probability of moving to each cell\"+\n",
    "    \"\\nShoot probability: \"+str(round(shoot_p,2))+\n",
    "    \" | Goal probability: \"+str(round(goal_p,2))+\n",
    "    \"\\nExpected Threat: \"+str(round(xt,2))\n",
    ")\n",
    "\n",
    "a = .38\n",
    "b = .4\n",
    "x0 = ((4.376471 + 3.623529)/2)+.009\n",
    "y0 = ((14.7804 + 15.12)/2)-.12\n",
    "x = (np.linspace(-a + x0, a + x0))\n",
    "y = -b * np.sqrt(1 - ((x - x0) / a) ** 2) + y0\n",
    "ax.plot(y, x,color='black')\n",
    "\n",
    "ax.plot([14.7804,15.12], [4.376471,4.376471],color='black')\n",
    "ax.plot([14.7804,15.12], [3.623529,3.623529],color='black')\n",
    "\n",
    "ax.plot([15.12,15.12], [0,8],color='black')\n",
    "ax.plot([15.12+0.2664,15.12+0.2664], [4-0.24,4+0.24],color='black')\n",
    "\n",
    "ax.plot([15.12,15.12+0.2664], [4-0.24,4-0.24],color='black')\n",
    "ax.plot([15.12,15.12+0.2664], [4+0.24,4+0.24],color='black')\n",
    "\n",
    "ax.plot([8,8], [0,8],color='black')\n",
    "ax.plot([10.04,10.04], [0,8],color='black')\n",
    "ax.plot([5.96,5.96], [0,8],color='black')"
   ]
  }
 ],
 "metadata": {
  "kernelspec": {
   "display_name": "Python 3",
   "language": "python",
   "name": "python3"
  },
  "language_info": {
   "codemirror_mode": {
    "name": "ipython",
    "version": 3
   },
   "file_extension": ".py",
   "mimetype": "text/x-python",
   "name": "python",
   "nbconvert_exporter": "python",
   "pygments_lexer": "ipython3",
   "version": "3.7.6"
  }
 },
 "nbformat": 4,
 "nbformat_minor": 4
}
