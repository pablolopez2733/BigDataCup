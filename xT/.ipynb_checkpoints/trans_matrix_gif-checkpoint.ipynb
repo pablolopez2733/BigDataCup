{
 "cells": [
  {
   "cell_type": "code",
   "execution_count": 13,
   "metadata": {},
   "outputs": [
    {
     "name": "stdout",
     "output_type": "stream",
     "text": [
      "# iterations:  15\n"
     ]
    },
    {
     "data": {
      "text/plain": [
       "<Figure size 960x408 with 0 Axes>"
      ]
     },
     "metadata": {},
     "output_type": "display_data"
    }
   ],
   "source": [
    "from xT import *\n",
    "import seaborn as sns\n",
    "import matplotlib.pyplot as plt\n",
    "\n",
    "#Dimensions\n",
    "l=16\n",
    "w=8\n",
    "\n",
    "data=pd.read_csv('nwhl/data.csv')\n",
    "xTModel = ExpectedThreat(l, w)\n",
    "xTModel.fit(data)\n",
    "\n",
    "cell_coord = []\n",
    "for n in range(0,w):\n",
    "    for m in range(0,l):\n",
    "        cell_coord.append((m,n))\n",
    "\n",
    "for i in range(0,w*l):\n",
    "    x=cell_coord[i][0]\n",
    "    y=cell_coord[i][1]\n",
    "    uniform_data = pd.DataFrame(xTModel.transition_matrix[i].reshape(w,l))\n",
    "    uniform_data.loc[y,x] = np.nan\n",
    "    mask = uniform_data.isnull()\n",
    "    figure = plt.gcf()\n",
    "    figure.set_size_inches(200/15, 85/15)\n",
    "    ax = sns.heatmap(uniform_data,cmap=\"Blues\",mask=mask)\n",
    "    ax.set_facecolor(\"orange\")\n",
    "    ax.set(title = \"Probability of moving to each other cell from current cell \\nCurrent cell: \"+str(cell_coord[i]))\n",
    "    plt.savefig('gif_images/'+str(i)+'.png', dpi=150) \n",
    "    plt.clf()\n",
    "\n",
    "import glob\n",
    "from PIL import Image\n",
    "import os\n",
    "\n",
    "files = glob.glob(\"gif_images/*.png\")\n",
    "files.sort(key=os.path.getmtime)\n",
    "\n",
    "fp_out = 'GIF_tm2.gif'\n",
    "\n",
    "img, *imgs = [Image.open(f) for f in files]\n",
    "img.save(fp=fp_out, format='GIF', append_images=imgs,\n",
    "         save_all=True, duration=400, loop=0)"
   ]
  }
 ],
 "metadata": {
  "kernelspec": {
   "display_name": "Python 3",
   "language": "python",
   "name": "python3"
  },
  "language_info": {
   "codemirror_mode": {
    "name": "ipython",
    "version": 3
   },
   "file_extension": ".py",
   "mimetype": "text/x-python",
   "name": "python",
   "nbconvert_exporter": "python",
   "pygments_lexer": "ipython3",
   "version": "3.7.6"
  }
 },
 "nbformat": 4,
 "nbformat_minor": 4
}
