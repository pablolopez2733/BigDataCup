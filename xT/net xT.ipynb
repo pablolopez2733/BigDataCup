{
 "cells": [
  {
   "cell_type": "code",
   "execution_count": 34,
   "metadata": {},
   "outputs": [],
   "source": [
    "import pandas as pd\n",
    "actions = pd.read_csv('data_test_turnover.csv')"
   ]
  },
  {
   "cell_type": "code",
   "execution_count": 36,
   "metadata": {},
   "outputs": [],
   "source": [
    "#Load modules\n",
    "from typing import Callable, List, Tuple\n",
    "import numpy as np\n",
    "from pandera.typing import DataFrame, Series\n",
    "try:\n",
    "    from scipy.interpolate import interp2d\n",
    "except ImportError:\n",
    "    interp2d = None\n",
    "M: int = 8\n",
    "N: int = 16\n",
    "\n",
    "def _get_cell_indexes(x: Series, y: Series, l: int = N, w: int = M) -> Tuple[Series, Series]:\n",
    "    xmin = 0\n",
    "    ymin = 0\n",
    "    xi = (x - xmin) / 200 * l\n",
    "    yj = (y - ymin) / 85 * w\n",
    "    xi = xi.astype(int).clip(0, l - 1)\n",
    "    yj = yj.astype(int).clip(0, w - 1)\n",
    "    return xi, yj\n",
    "\n",
    "def _get_flat_indexes(x: Series, y: Series, l: int = N, w: int = M) -> Series:\n",
    "    xi, yj = _get_cell_indexes(x, y, l, w)\n",
    "    return l * (w - 1 - yj) + xi\n",
    "\n",
    "def get_move_actions(actions):\n",
    "    actions=actions[actions['success'].isna() == False]\n",
    "    return actions[\n",
    "        (actions.type_name == 'Zone Entry')\n",
    "        | (actions.type_name == 'Pass')\n",
    "    ]\n",
    "\n",
    "def move_turnover_matrix(actions, l: int = N, w: int = M) -> np.ndarray:\n",
    "    move_actions = get_move_actions(actions)\n",
    "    X = pd.DataFrame()\n",
    "    X['start_cell'] = _get_flat_indexes(move_actions.start_x, move_actions.start_y, l, w)\n",
    "    X['end_cell'] = _get_flat_indexes(move_actions.end_x, move_actions.end_y, l, w)\n",
    "    X['success'] = move_actions.success\n",
    "\n",
    "    vc = X.start_cell.value_counts(sort=False)\n",
    "    start_counts = np.zeros(w * l)\n",
    "    start_counts[vc.index] = vc\n",
    "\n",
    "    turnover_matrix = np.zeros((w * l, w * l))\n",
    "\n",
    "    for i in range(0, w * l):\n",
    "        vc2 = X[((X.start_cell == i) & (X.success == 0.0))].end_cell.value_counts(\n",
    "            sort=False\n",
    "        )\n",
    "        turnover_matrix[i, vc2.index] = vc2 / start_counts[i]\n",
    "\n",
    "    return turnover_matrix"
   ]
  },
  {
   "cell_type": "code",
   "execution_count": 41,
   "metadata": {},
   "outputs": [
    {
     "data": {
      "text/plain": [
       "<Figure size 960x408 with 0 Axes>"
      ]
     },
     "metadata": {},
     "output_type": "display_data"
    }
   ],
   "source": [
    "import seaborn as sns\n",
    "import matplotlib.pyplot as plt\n",
    "import glob\n",
    "from PIL import Image\n",
    "import os\n",
    "\n",
    "l=16\n",
    "w=8\n",
    "\n",
    "cell_coord = []\n",
    "for n in range(0,w):\n",
    "    for m in range(0,l):\n",
    "        cell_coord.append((m,n))\n",
    "\n",
    "for i in range(0,w*l):\n",
    "    x=cell_coord[i][0]\n",
    "    y=cell_coord[i][1]\n",
    "    uniform_data=pd.DataFrame(move_turnover_matrix(actions, l, w)[i].reshape(w,l))\n",
    "    uniform_data.loc[y,x] = np.nan\n",
    "    figure = plt.gcf()\n",
    "    figure.set_size_inches((200/15), (85/15))\n",
    "    mask = uniform_data.isnull()\n",
    "    ax = sns.heatmap(uniform_data,cmap=\"rocket_r\",mask=mask)\n",
    "    ax.set_facecolor('purple')\n",
    "    ax.set(\n",
    "        title = \n",
    "        \"Shade of red is probability of turning the ball on each cell from \"+str(cell_coord[i])\n",
    "    )\n",
    "    plt.savefig('gif2_images/'+str(i)+'.png', dpi=100) \n",
    "    plt.clf()\n",
    "\n",
    "files = glob.glob(\"gif2_images/*.png\")\n",
    "files.sort(key=os.path.getmtime)\n",
    "\n",
    "fp_out = 'GIF_turnover_matrix.gif'\n",
    "\n",
    "img, *imgs = [Image.open(f) for f in files]\n",
    "img.save(fp=fp_out, format='GIF', append_images=imgs,\n",
    "         save_all=True, duration=500, loop=0)"
   ]
  },
  {
   "cell_type": "code",
   "execution_count": 37,
   "metadata": {},
   "outputs": [
    {
     "name": "stdout",
     "output_type": "stream",
     "text": [
      "# iterations:  16\n"
     ]
    }
   ],
   "source": [
    "import seaborn as sns\n",
    "import matplotlib.pyplot as plt\n",
    "import glob\n",
    "from PIL import Image\n",
    "import os\n",
    "from xT import ExpectedThreat\n",
    "\n",
    "xTModel = ExpectedThreat(l, w)\n",
    "xTModel.fit(actions)\n",
    "xt = xTModel.xT.reshape(w*l,)\n",
    "\n",
    "l=16\n",
    "w=8\n",
    "\n",
    "cell_coord = []\n",
    "for n in range(0,w):\n",
    "    for m in range(0,l):\n",
    "        cell_coord.append((m,n))\n",
    "\n",
    "vec = np.zeros(w*l)\n",
    "vec2 = np.zeros(w*l)\n",
    "for i in range(0,w*l):\n",
    "    uniform_data = np.flip(move_turnover_matrix(actions, l, w)[i])\n",
    "    oxt = (xt * uniform_data).sum()\n",
    "    nxt = xt[i] - oxt\n",
    "    vec[i]=nxt\n",
    "    vec2[i]=oxt\n",
    "nxt_matrix = vec.reshape(w,l)\n",
    "oxt_matrix = vec2.reshape(w,l)"
   ]
  },
  {
   "cell_type": "code",
   "execution_count": 38,
   "metadata": {},
   "outputs": [
    {
     "data": {
      "text/plain": [
       "<matplotlib.axes._subplots.AxesSubplot at 0x1f19bc21508>"
      ]
     },
     "execution_count": 38,
     "metadata": {},
     "output_type": "execute_result"
    },
    {
     "data": {
      "image/png": "[encoded data removed]",
      "text/plain": [
       "<Figure size 432x288 with 2 Axes>"
      ]
     },
     "metadata": {
      "needs_background": "light"
     },
     "output_type": "display_data"
    }
   ],
   "source": [
    "sns.heatmap(nxt_matrix)"
   ]
  },
  {
   "cell_type": "code",
   "execution_count": 39,
   "metadata": {},
   "outputs": [
    {
     "data": {
      "text/plain": [
       "<matplotlib.axes._subplots.AxesSubplot at 0x1f19c74eac8>"
      ]
     },
     "execution_count": 39,
     "metadata": {},
     "output_type": "execute_result"
    },
    {
     "data": {
      "image/png": "[encoded data removed]",
      "text/plain": [
       "<Figure size 432x288 with 2 Axes>"
      ]
     },
     "metadata": {
      "needs_background": "light"
     },
     "output_type": "display_data"
    }
   ],
   "source": [
    "sns.heatmap(xTModel.xT)"
   ]
  },
  {
   "cell_type": "code",
   "execution_count": 40,
   "metadata": {},
   "outputs": [
    {
     "data": {
      "text/plain": [
       "<matplotlib.axes._subplots.AxesSubplot at 0x1f19c4d1fc8>"
      ]
     },
     "execution_count": 40,
     "metadata": {},
     "output_type": "execute_result"
    },
    {
     "data": {
      "image/png": "[encoded data removed]",
      "text/plain": [
       "<Figure size 432x288 with 2 Axes>"
      ]
     },
     "metadata": {
      "needs_background": "light"
     },
     "output_type": "display_data"
    }
   ],
   "source": [
    "sns.heatmap(oxt_matrix)"
   ]
  }
 ],
 "metadata": {
  "kernelspec": {
   "display_name": "Python 3",
   "language": "python",
   "name": "python3"
  },
  "language_info": {
   "codemirror_mode": {
    "name": "ipython",
    "version": 3
   },
   "file_extension": ".py",
   "mimetype": "text/x-python",
   "name": "python",
   "nbconvert_exporter": "python",
   "pygments_lexer": "ipython3",
   "version": "3.7.6"
  }
 },
 "nbformat": 4,
 "nbformat_minor": 4
}
