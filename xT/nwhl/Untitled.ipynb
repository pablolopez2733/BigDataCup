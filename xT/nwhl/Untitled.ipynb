{
 "cells": [
  {
   "cell_type": "code",
   "execution_count": null,
   "metadata": {},
   "outputs": [
    {
     "name": "stdout",
     "output_type": "stream",
     "text": [
      "# iterations:  15\n"
     ]
    }
   ],
   "source": [
    "import os\n",
    "import sys\n",
    "import pandas as pd\n",
    "module_path = os.path.abspath(os.path.join('..'))\n",
    "if module_path not in sys.path:\n",
    "    sys.path.append(module_path)\n",
    "from xT import *\n",
    "\n",
    "data=pd.read_csv('data.csv')\n",
    "xTModel = ExpectedThreat(l=16, w=12)\n",
    "xTModel.fit(data)\n",
    "\n",
    "interp = xTModel.interpolator()\n",
    "x = np.linspace(0, 200, 200)\n",
    "y = np.linspace(0, 85, 85)\n",
    "\n",
    "matrix = interp(x,y)\n",
    "frame = pd.DataFrame(matrix)\n",
    "\n",
    "m_lst = []\n",
    "n_lst = []\n",
    "p_lst = []\n",
    "for m in frame.columns:\n",
    "    for n in frame.index:\n",
    "        p_lst.append(frame[m][n])\n",
    "        m_lst.append(m)\n",
    "        n_lst.append(n)\n",
    "export=pd.DataFrame(data={'x':m_lst,'y':n_lst,'xt':p_lst})\n",
    "export.to_csv('../small_matrix.csv',index=False)"
   ]
  }
 ],
 "metadata": {
  "kernelspec": {
   "display_name": "Python 3",
   "language": "python",
   "name": "python3"
  },
  "language_info": {
   "codemirror_mode": {
    "name": "ipython",
    "version": 3
   },
   "file_extension": ".py",
   "mimetype": "text/x-python",
   "name": "python",
   "nbconvert_exporter": "python",
   "pygments_lexer": "ipython3",
   "version": "3.7.6"
  }
 },
 "nbformat": 4,
 "nbformat_minor": 4
}
