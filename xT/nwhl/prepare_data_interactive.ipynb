{
 "cells": [
  {
   "cell_type": "code",
   "execution_count": 32,
   "metadata": {},
   "outputs": [
    {
     "name": "stdout",
     "output_type": "stream",
     "text": [
      "# iterations:  15\n"
     ]
    },
    {
     "data": {
      "text/plain": [
       "<xT.ExpectedThreat at 0x1aa984cca48>"
      ]
     },
     "execution_count": 32,
     "metadata": {},
     "output_type": "execute_result"
    }
   ],
   "source": [
    "import os\n",
    "import sys\n",
    "module_path = os.path.abspath(os.path.join('..'))\n",
    "if module_path not in sys.path:\n",
    "    sys.path.append(module_path)\n",
    "from xT import *\n",
    "data=pd.read_csv('data.csv')\n",
    "l=16;w=8\n",
    "xTModel = ExpectedThreat(l, w)\n",
    "xTModel.fit(data)"
   ]
  },
  {
   "cell_type": "code",
   "execution_count": 33,
   "metadata": {},
   "outputs": [],
   "source": [
    "matrix = xTModel.xT\n",
    "frame = pd.DataFrame(matrix)\n",
    "m_lst = []\n",
    "n_lst = []\n",
    "p_lst = []\n",
    "for m in frame.columns:\n",
    "    for n in frame.index:\n",
    "        p_lst.append(frame[m][n])\n",
    "        m_lst.append(m)\n",
    "        n_lst.append(n)\n",
    "xt=pd.DataFrame(data={'x':m_lst,'y':n_lst,'xt':p_lst})"
   ]
  },
  {
   "cell_type": "code",
   "execution_count": 34,
   "metadata": {},
   "outputs": [],
   "source": [
    "matrix = xTModel.move_prob_matrix\n",
    "frame = pd.DataFrame(matrix)\n",
    "m_lst = []\n",
    "n_lst = []\n",
    "p_lst = []\n",
    "for m in frame.columns:\n",
    "    for n in frame.index:\n",
    "        p_lst.append(frame[m][n])\n",
    "        m_lst.append(m)\n",
    "        n_lst.append(n)\n",
    "move_prob=pd.DataFrame(data={'move_prob':p_lst})"
   ]
  },
  {
   "cell_type": "code",
   "execution_count": 35,
   "metadata": {},
   "outputs": [],
   "source": [
    "matrix = xTModel.shot_prob_matrix\n",
    "frame = pd.DataFrame(matrix)\n",
    "m_lst = []\n",
    "n_lst = []\n",
    "p_lst = []\n",
    "for m in frame.columns:\n",
    "    for n in frame.index:\n",
    "        p_lst.append(frame[m][n])\n",
    "        m_lst.append(m)\n",
    "        n_lst.append(n)\n",
    "shot_prob=pd.DataFrame(data={'shot_prob':p_lst})"
   ]
  },
  {
   "cell_type": "code",
   "execution_count": 36,
   "metadata": {},
   "outputs": [],
   "source": [
    "matrix = xTModel.scoring_prob_matrix\n",
    "frame = pd.DataFrame(matrix)\n",
    "m_lst = []\n",
    "n_lst = []\n",
    "p_lst = []\n",
    "for m in frame.columns:\n",
    "    for n in frame.index:\n",
    "        p_lst.append(frame[m][n])\n",
    "        m_lst.append(m)\n",
    "        n_lst.append(n)\n",
    "score_prob=pd.DataFrame(data={'score_prob':p_lst})"
   ]
  },
  {
   "cell_type": "code",
   "execution_count": 41,
   "metadata": {},
   "outputs": [],
   "source": [
    "matrix_=pd.concat([xt,move_prob,shot_prob,score_prob],axis=1)\n",
    "matrix_.to_csv('for_interactive.csv',index=False)"
   ]
  }
 ],
 "metadata": {
  "kernelspec": {
   "display_name": "Python 3",
   "language": "python",
   "name": "python3"
  },
  "language_info": {
   "codemirror_mode": {
    "name": "ipython",
    "version": 3
   },
   "file_extension": ".py",
   "mimetype": "text/x-python",
   "name": "python",
   "nbconvert_exporter": "python",
   "pygments_lexer": "ipython3",
   "version": "3.7.6"
  }
 },
 "nbformat": 4,
 "nbformat_minor": 4
}
