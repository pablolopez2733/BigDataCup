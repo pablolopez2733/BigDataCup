{
 "cells": [
  {
   "cell_type": "code",
   "execution_count": 42,
   "metadata": {},
   "outputs": [],
   "source": [
    "import os\n",
    "import sys\n",
    "import warnings\n",
    "warnings.filterwarnings(\"ignore\")\n",
    "module_path = '../modules/'\n",
    "if module_path not in sys.path:\n",
    "    sys.path.append(module_path)\n",
    "import nxT as nxT\n",
    "import pandas as pd"
   ]
  },
  {
   "cell_type": "code",
   "execution_count": 47,
   "metadata": {},
   "outputs": [
    {
     "name": "stdout",
     "output_type": "stream",
     "text": [
      "# iterations:  16\n",
      "# iterations:  11\n",
      "# iterations:  7\n",
      "# iterations:  9\n"
     ]
    }
   ],
   "source": [
    "#Load data\n",
    "data=pd.read_csv(\"data_premodel.csv\")\n",
    "data=data[data['league'] == 'scouting']\n",
    "#nxTa\n",
    "res = nxT.return_nxTa_values(data)\n",
    "data=pd.concat([data,res[['xTa','oxTa']]],axis=1)\n",
    "data.rename(columns={'xTa':'xT','oxTa':'oxT'},inplace=True)\n",
    "data['nxT'] = data['xT'] - data['oxT']"
   ]
  },
  {
   "cell_type": "code",
   "execution_count": 55,
   "metadata": {},
   "outputs": [],
   "source": [
    "start_x_cell,start_y_cell = xTa._get_cell_indexes(data.start_x, data.start_y, l=16, w=8)\n",
    "data['start_x_cell'] = start_x_cell\n",
    "data['start_y_cell'] = start_y_cell\n",
    "\n",
    "end_x_cell,end_y_cell = xTa._get_cell_indexes(data.end_x, data.end_y, l=16, w=8)\n",
    "data['end_x_cell'] = end_x_cell\n",
    "data['end_y_cell'] = end_y_cell"
   ]
  },
  {
   "cell_type": "code",
   "execution_count": 58,
   "metadata": {},
   "outputs": [
    {
     "data": {
      "text/plain": [
       "Index(['game_date', 'Home.Team', 'Away.Team', 'Period', 'Clock',\n",
       "       'Home.Team.Skaters', 'Away.Team.Skaters', 'Home.Team.Goals',\n",
       "       'Away.Team.Goals', 'Team', 'Player', 'type_name', 'start_x', 'start_y',\n",
       "       'Detail.1', 'Detail.2', 'Detail.3', 'Detail.4', 'Player.2', 'league',\n",
       "       'game_id', 'success', 'period_time_remaining', 'home', 'pos_skaters',\n",
       "       'def_skaters', 'end_x', 'end_y', 'turnover', 'game_time_remaining',\n",
       "       'time', 'goal', 'xT', 'oxT', 'nxT', 'start_x_cell', 'start_y_cell',\n",
       "       'end_x_cell', 'end_y_cell'],\n",
       "      dtype='object')"
      ]
     },
     "execution_count": 58,
     "metadata": {},
     "output_type": "execute_result"
    }
   ],
   "source": [
    "data.columns"
   ]
  },
  {
   "cell_type": "code",
   "execution_count": 62,
   "metadata": {},
   "outputs": [],
   "source": [
    "data=data[['game_id','game_date','league','Home.Team', 'Away.Team', 'Period', 'Clock', \n",
    " 'period_time_remaining','game_time_remaining','time','Home.Team.Skaters', \n",
    " 'Away.Team.Skaters','pos_skaters','def_skaters', 'Home.Team.Goals','Away.Team.Goals', \n",
    " 'Team','home','Player','Player.2','Detail.1', 'Detail.2', 'Detail.3', 'Detail.4',\n",
    " 'type_name','success','goal','turnover','start_x_cell', 'start_y_cell','end_x_cell', 'end_y_cell',\n",
    " 'start_x', 'start_y', 'end_x', 'end_y', 'xT', 'oxT', 'nxT']]"
   ]
  },
  {
   "cell_type": "code",
   "execution_count": 64,
   "metadata": {},
   "outputs": [],
   "source": [
    "data.to_csv('clean_data.csv',index=False)"
   ]
  }
 ],
 "metadata": {
  "kernelspec": {
   "display_name": "Python 3",
   "language": "python",
   "name": "python3"
  },
  "language_info": {
   "codemirror_mode": {
    "name": "ipython",
    "version": 3
   },
   "file_extension": ".py",
   "mimetype": "text/x-python",
   "name": "python",
   "nbconvert_exporter": "python",
   "pygments_lexer": "ipython3",
   "version": "3.7.6"
  }
 },
 "nbformat": 4,
 "nbformat_minor": 4
}
