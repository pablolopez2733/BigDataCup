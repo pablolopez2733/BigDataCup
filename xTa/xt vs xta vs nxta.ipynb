{
 "cells": [
  {
   "cell_type": "code",
   "execution_count": 6,
   "metadata": {},
   "outputs": [
    {
     "name": "stdout",
     "output_type": "stream",
     "text": [
      "# iterations:  16\n",
      "# iterations:  11\n",
      "# iterations:  7\n",
      "# iterations:  9\n",
      "# iterations:  17\n",
      "# iterations:  16\n",
      "# iterations:  11\n",
      "# iterations:  7\n",
      "# iterations:  9\n",
      "            xT       xTa      nxTa\n",
      "xT    1.000000  0.981162  0.975793\n",
      "xTa   0.981162  1.000000  0.996327\n",
      "nxTa  0.975793  0.996327  1.000000\n"
     ]
    }
   ],
   "source": [
    "import os\n",
    "import sys\n",
    "import warnings\n",
    "warnings.filterwarnings(\"ignore\")\n",
    "module_path = '../modules/'\n",
    "if module_path not in sys.path:\n",
    "    sys.path.append(module_path)\n",
    "import xTa as xTa\n",
    "import xT as xT\n",
    "import nxT as nxT\n",
    "import pandas as pd\n",
    "#Load data\n",
    "data=pd.read_csv(\"data_pre_xg.csv\")\n",
    "data=data[data['league'] == 'scouting']\n",
    "#xTa\n",
    "res = xTa.return_xTa_values(data)\n",
    "data=pd.concat([data,res],axis=1)\n",
    "#xT\n",
    "xTModel = xT.ExpectedThreat(l=16, w=8)\n",
    "xTModel.fit(data)\n",
    "data['xT']=xTModel.predict(data)\n",
    "#nxTa\n",
    "res = nxT.return_nxTa_values(data)\n",
    "data=pd.concat([data,res],axis=1)\n",
    "#Compare\n",
    "ma=xT.get_move_actions(data)\n",
    "print(ma[['xT','xTa','nxTa']].corr())\n",
    "ma.to_csv('comparing_methods.csv',index=False)"
   ]
  }
 ],
 "metadata": {
  "kernelspec": {
   "display_name": "Python 3",
   "language": "python",
   "name": "python3"
  },
  "language_info": {
   "codemirror_mode": {
    "name": "ipython",
    "version": 3
   },
   "file_extension": ".py",
   "mimetype": "text/x-python",
   "name": "python",
   "nbconvert_exporter": "python",
   "pygments_lexer": "ipython3",
   "version": "3.7.6"
  }
 },
 "nbformat": 4,
 "nbformat_minor": 4
}
